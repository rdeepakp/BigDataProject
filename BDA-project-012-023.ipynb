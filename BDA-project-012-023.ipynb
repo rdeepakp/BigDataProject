{
 "cells": [
  {
   "cell_type": "code",
   "execution_count": 1,
   "id": "c0504130",
   "metadata": {},
   "outputs": [],
   "source": [
    "# basic\n",
    "import pandas as pd\n",
    "import numpy as np\n",
    "import seaborn as sns\n",
    "import matplotlib.pyplot as plt\n",
    "import datetime\n",
    "\n",
    "%matplotlib inline\n",
    "\n",
    "# modelling\n",
    "from sklearn.model_selection import train_test_split, cross_val_score\n",
    "from sklearn.ensemble import RandomForestClassifier\n",
    "from sklearn import preprocessing\n",
    "from sklearn.compose import ColumnTransformer\n",
    "from sklearn.preprocessing import LabelEncoder\n",
    "from sklearn.preprocessing import OneHotEncoder\n",
    "from sklearn.neighbors import KNeighborsClassifier\n",
    "from sklearn.linear_model import LogisticRegression\n",
    "from sklearn.metrics import log_loss\n",
    "\n",
    "# xgboost\n",
    "from xgboost import XGBClassifier\n",
    "\n",
    "# lightgbm\n",
    "import lightgbm as lgb\n",
    "\n",
    "# metrics\"\n",
    "from sklearn.metrics import plot_roc_curve, roc_auc_score\n",
    "from sklearn.metrics import precision_score, recall_score, f1_score\n",
    "from sklearn.model_selection import RandomizedSearchCV, GridSearchCV"
   ]
  },
  {
   "cell_type": "markdown",
   "id": "9fec7551",
   "metadata": {},
   "source": [
    "# Import data"
   ]
  },
  {
   "cell_type": "code",
   "execution_count": 2,
   "id": "0836e756",
   "metadata": {},
   "outputs": [],
   "source": [
    "train_df = pd.read_csv('train.csv', parse_dates = ['Dates'])"
   ]
  },
  {
   "cell_type": "code",
   "execution_count": 3,
   "id": "8e2595a7",
   "metadata": {},
   "outputs": [
    {
     "data": {
      "text/html": [
       "<div>\n",
       "<style scoped>\n",
       "    .dataframe tbody tr th:only-of-type {\n",
       "        vertical-align: middle;\n",
       "    }\n",
       "\n",
       "    .dataframe tbody tr th {\n",
       "        vertical-align: top;\n",
       "    }\n",
       "\n",
       "    .dataframe thead th {\n",
       "        text-align: right;\n",
       "    }\n",
       "</style>\n",
       "<table border=\"1\" class=\"dataframe\">\n",
       "  <thead>\n",
       "    <tr style=\"text-align: right;\">\n",
       "      <th></th>\n",
       "      <th>Dates</th>\n",
       "      <th>Category</th>\n",
       "      <th>Descript</th>\n",
       "      <th>DayOfWeek</th>\n",
       "      <th>PdDistrict</th>\n",
       "      <th>Resolution</th>\n",
       "      <th>Address</th>\n",
       "      <th>X</th>\n",
       "      <th>Y</th>\n",
       "    </tr>\n",
       "  </thead>\n",
       "  <tbody>\n",
       "    <tr>\n",
       "      <th>0</th>\n",
       "      <td>2015-05-13 23:53:00</td>\n",
       "      <td>WARRANTS</td>\n",
       "      <td>WARRANT ARREST</td>\n",
       "      <td>Wednesday</td>\n",
       "      <td>NORTHERN</td>\n",
       "      <td>ARREST, BOOKED</td>\n",
       "      <td>OAK ST / LAGUNA ST</td>\n",
       "      <td>-122.425892</td>\n",
       "      <td>37.774599</td>\n",
       "    </tr>\n",
       "    <tr>\n",
       "      <th>1</th>\n",
       "      <td>2015-05-13 23:53:00</td>\n",
       "      <td>OTHER OFFENSES</td>\n",
       "      <td>TRAFFIC VIOLATION ARREST</td>\n",
       "      <td>Wednesday</td>\n",
       "      <td>NORTHERN</td>\n",
       "      <td>ARREST, BOOKED</td>\n",
       "      <td>OAK ST / LAGUNA ST</td>\n",
       "      <td>-122.425892</td>\n",
       "      <td>37.774599</td>\n",
       "    </tr>\n",
       "    <tr>\n",
       "      <th>2</th>\n",
       "      <td>2015-05-13 23:33:00</td>\n",
       "      <td>OTHER OFFENSES</td>\n",
       "      <td>TRAFFIC VIOLATION ARREST</td>\n",
       "      <td>Wednesday</td>\n",
       "      <td>NORTHERN</td>\n",
       "      <td>ARREST, BOOKED</td>\n",
       "      <td>VANNESS AV / GREENWICH ST</td>\n",
       "      <td>-122.424363</td>\n",
       "      <td>37.800414</td>\n",
       "    </tr>\n",
       "    <tr>\n",
       "      <th>3</th>\n",
       "      <td>2015-05-13 23:30:00</td>\n",
       "      <td>LARCENY/THEFT</td>\n",
       "      <td>GRAND THEFT FROM LOCKED AUTO</td>\n",
       "      <td>Wednesday</td>\n",
       "      <td>NORTHERN</td>\n",
       "      <td>NONE</td>\n",
       "      <td>1500 Block of LOMBARD ST</td>\n",
       "      <td>-122.426995</td>\n",
       "      <td>37.800873</td>\n",
       "    </tr>\n",
       "    <tr>\n",
       "      <th>4</th>\n",
       "      <td>2015-05-13 23:30:00</td>\n",
       "      <td>LARCENY/THEFT</td>\n",
       "      <td>GRAND THEFT FROM LOCKED AUTO</td>\n",
       "      <td>Wednesday</td>\n",
       "      <td>PARK</td>\n",
       "      <td>NONE</td>\n",
       "      <td>100 Block of BRODERICK ST</td>\n",
       "      <td>-122.438738</td>\n",
       "      <td>37.771541</td>\n",
       "    </tr>\n",
       "  </tbody>\n",
       "</table>\n",
       "</div>"
      ],
      "text/plain": [
       "                Dates        Category                      Descript  \\\n",
       "0 2015-05-13 23:53:00        WARRANTS                WARRANT ARREST   \n",
       "1 2015-05-13 23:53:00  OTHER OFFENSES      TRAFFIC VIOLATION ARREST   \n",
       "2 2015-05-13 23:33:00  OTHER OFFENSES      TRAFFIC VIOLATION ARREST   \n",
       "3 2015-05-13 23:30:00   LARCENY/THEFT  GRAND THEFT FROM LOCKED AUTO   \n",
       "4 2015-05-13 23:30:00   LARCENY/THEFT  GRAND THEFT FROM LOCKED AUTO   \n",
       "\n",
       "   DayOfWeek PdDistrict      Resolution                    Address  \\\n",
       "0  Wednesday   NORTHERN  ARREST, BOOKED         OAK ST / LAGUNA ST   \n",
       "1  Wednesday   NORTHERN  ARREST, BOOKED         OAK ST / LAGUNA ST   \n",
       "2  Wednesday   NORTHERN  ARREST, BOOKED  VANNESS AV / GREENWICH ST   \n",
       "3  Wednesday   NORTHERN            NONE   1500 Block of LOMBARD ST   \n",
       "4  Wednesday       PARK            NONE  100 Block of BRODERICK ST   \n",
       "\n",
       "            X          Y  \n",
       "0 -122.425892  37.774599  \n",
       "1 -122.425892  37.774599  \n",
       "2 -122.424363  37.800414  \n",
       "3 -122.426995  37.800873  \n",
       "4 -122.438738  37.771541  "
      ]
     },
     "execution_count": 3,
     "metadata": {},
     "output_type": "execute_result"
    }
   ],
   "source": [
    "train_df.head()"
   ]
  },
  {
   "cell_type": "code",
   "execution_count": 4,
   "id": "cdf4ca35",
   "metadata": {},
   "outputs": [
    {
     "data": {
      "text/plain": [
       "878049"
      ]
     },
     "execution_count": 4,
     "metadata": {},
     "output_type": "execute_result"
    }
   ],
   "source": [
    "len(train_df)"
   ]
  },
  {
   "cell_type": "code",
   "execution_count": 5,
   "id": "61866d7e",
   "metadata": {},
   "outputs": [
    {
     "data": {
      "text/plain": [
       "Dates         0\n",
       "Category      0\n",
       "Descript      0\n",
       "DayOfWeek     0\n",
       "PdDistrict    0\n",
       "Resolution    0\n",
       "Address       0\n",
       "X             0\n",
       "Y             0\n",
       "dtype: int64"
      ]
     },
     "execution_count": 5,
     "metadata": {},
     "output_type": "execute_result"
    }
   ],
   "source": [
    "train_df.isna().sum()"
   ]
  },
  {
   "cell_type": "code",
   "execution_count": 31,
   "id": "1c4a4b9d",
   "metadata": {
    "scrolled": false
   },
   "outputs": [
    {
     "data": {
      "text/plain": [
       "39"
      ]
     },
     "execution_count": 31,
     "metadata": {},
     "output_type": "execute_result"
    }
   ],
   "source": [
    "len(train_df['Category'].unique())"
   ]
  },
  {
   "cell_type": "markdown",
   "id": "6aee88e1",
   "metadata": {},
   "source": [
    "**Given that the test data does not include the Descript or the Resolution columns, we will initially remove them to focus on the more important**"
   ]
  },
  {
   "cell_type": "code",
   "execution_count": 110,
   "id": "bb7278a2",
   "metadata": {},
   "outputs": [],
   "source": [
    "df = train_df.copy()\n",
    "df.drop(columns=['Descript', 'Resolution'], axis=1, inplace=True)"
   ]
  },
  {
   "cell_type": "code",
   "execution_count": 112,
   "id": "bb6fa718",
   "metadata": {},
   "outputs": [
    {
     "data": {
      "text/plain": [
       "Dates         datetime64[ns]\n",
       "Category              object\n",
       "DayOfWeek             object\n",
       "PdDistrict            object\n",
       "Address               object\n",
       "X                    float64\n",
       "Y                    float64\n",
       "dtype: object"
      ]
     },
     "execution_count": 112,
     "metadata": {},
     "output_type": "execute_result"
    }
   ],
   "source": [
    "df.dtypes"
   ]
  },
  {
   "cell_type": "markdown",
   "id": "2dd5f0ab",
   "metadata": {},
   "source": [
    "# Augment data"
   ]
  },
  {
   "cell_type": "markdown",
   "id": "fca08a72",
   "metadata": {},
   "source": [
    "**Break date into day, month, year, hour**"
   ]
  },
  {
   "cell_type": "code",
   "execution_count": 113,
   "id": "ddbd0994",
   "metadata": {},
   "outputs": [],
   "source": [
    "df['Year'] = df['Dates'].dt.year\n",
    "df['Month'] = df['Dates'].dt.month\n",
    "df['Day'] = df['Dates'].dt.day\n",
    "df['Hour'] = df['Dates'].dt.hour\n",
    "df['Dayofweek'] = df['Dates'].dt.dayofweek"
   ]
  },
  {
   "cell_type": "code",
   "execution_count": 114,
   "id": "b907d8a1",
   "metadata": {},
   "outputs": [],
   "source": [
    "# subtract 2000 from the year to keep data in the same range\n",
    "df['Year'] = df['Year'] - 2000"
   ]
  },
  {
   "cell_type": "code",
   "execution_count": 115,
   "id": "b8b40125",
   "metadata": {},
   "outputs": [],
   "source": [
    "df.drop('Dates', axis=1, inplace=True)\n",
    "df.drop('DayOfWeek', axis=1, inplace=True)"
   ]
  },
  {
   "cell_type": "markdown",
   "id": "cb117380",
   "metadata": {},
   "source": [
    "### Exact address is irrelevant. Replace it by checking if it is a street or an avenue"
   ]
  },
  {
   "cell_type": "code",
   "execution_count": 117,
   "id": "3258304d",
   "metadata": {},
   "outputs": [],
   "source": [
    "def check_st_at(str_list):\n",
    "    for word in str_list.split():\n",
    "        if word == 'AV':\n",
    "            return 'AV'\n",
    "    return 'ST'"
   ]
  },
  {
   "cell_type": "code",
   "execution_count": 118,
   "id": "03064dbd",
   "metadata": {},
   "outputs": [],
   "source": [
    "df['Roadtype'] = df.apply(lambda row: check_st_at(row.Address), axis=1)"
   ]
  },
  {
   "cell_type": "code",
   "execution_count": 119,
   "id": "49a10577",
   "metadata": {},
   "outputs": [],
   "source": [
    "# we can now drop Address\n",
    "df.drop('Address', axis=1, inplace=True)"
   ]
  },
  {
   "cell_type": "markdown",
   "id": "ab3f0478",
   "metadata": {},
   "source": [
    "### Normalize coordinates"
   ]
  },
  {
   "cell_type": "code",
   "execution_count": 121,
   "id": "203d0305",
   "metadata": {},
   "outputs": [],
   "source": [
    "scaler_X = preprocessing.MinMaxScaler()\n",
    "scaler_Y = preprocessing.MinMaxScaler()\n",
    "\n",
    "X_def, Y_def = df['X'].values, df['Y'].values #returns a numpy array\n",
    "X_scaled = scaler_X.fit_transform(X_def.reshape([-1,1]))\n",
    "Y_scaled = scaler_Y.fit_transform(Y_def.reshape([-1,1]))\n",
    "\n",
    "df['X'] = X_scaled\n",
    "df['Y'] = Y_scaled"
   ]
  },
  {
   "cell_type": "code",
   "execution_count": 129,
   "id": "ad6ea085",
   "metadata": {},
   "outputs": [],
   "source": [
    "### Save pre-processed df to csv\n",
    "df.to_csv('preprocessed_data.csv', index=False)"
   ]
  },
  {
   "cell_type": "markdown",
   "id": "5c28552b",
   "metadata": {},
   "source": [
    "# EDA"
   ]
  },
  {
   "cell_type": "code",
   "execution_count": 153,
   "id": "2ba6e0fc",
   "metadata": {
    "scrolled": false
   },
   "outputs": [
    {
     "data": {
      "image/png": "[encoded data removed]",
      "text/plain": [
       "<Figure size 1152x720 with 1 Axes>"
      ]
     },
     "metadata": {
      "needs_background": "light"
     },
     "output_type": "display_data"
    }
   ],
   "source": [
    "df['Category'].value_counts().plot(kind='barh', figsize=(16,10));"
   ]
  },
  {
   "cell_type": "code",
   "execution_count": 159,
   "id": "971044b2",
   "metadata": {},
   "outputs": [
    {
     "data": {
      "image/png": "[encoded data removed]",
      "text/plain": [
       "<Figure size 1152x216 with 1 Axes>"
      ]
     },
     "metadata": {
      "needs_background": "light"
     },
     "output_type": "display_data"
    }
   ],
   "source": [
    "df['PdDistrict'].value_counts().plot(kind='barh', figsize=(16,3));"
   ]
  },
  {
   "cell_type": "code",
   "execution_count": 163,
   "id": "bddfed48",
   "metadata": {},
   "outputs": [
    {
     "data": {
      "text/plain": [
       "[Text(0.5, 0, 'X'), Text(0, 0.5, 'Y')]"
      ]
     },
     "execution_count": 163,
     "metadata": {},
     "output_type": "execute_result"
    },
    {
     "data": {
      "image/png": "[encoded data removed]",
      "text/plain": [
       "<Figure size 720x432 with 1 Axes>"
      ]
     },
     "metadata": {
      "needs_background": "light"
     },
     "output_type": "display_data"
    }
   ],
   "source": [
    "fig, ax = plt.subplots(figsize=(10,6))\n",
    "\n",
    "ax.scatter(df['X'], df['Y']);\n",
    "ax.set(xlabel='X',\n",
    "       ylabel='Y');"
   ]
  },
  {
   "cell_type": "code",
   "execution_count": 166,
   "id": "5e199ab7",
   "metadata": {},
   "outputs": [
    {
     "data": {
      "text/plain": [
       "Int64Index([660485, 660711, 660712, 661106, 666430, 667042, 669946, 671709,\n",
       "            673078, 673114, 673115, 673510, 674043, 675070, 675073, 675288,\n",
       "            675540, 677036, 677260, 677268, 677828, 678326, 678539, 678540,\n",
       "            679643, 682780, 683862, 684406, 685719, 685720, 686997, 687519,\n",
       "            687527, 688950, 692258, 712309, 719993, 727080, 754828, 756059,\n",
       "            759292, 759397, 767318, 767501, 767502, 772415, 772431, 773159,\n",
       "            783919, 788574, 788575, 789255, 798834, 823378, 833362, 833921,\n",
       "            839585, 842259, 842261, 842434, 842435, 842828, 844995, 845842,\n",
       "            852880, 857248, 871198],\n",
       "           dtype='int64')"
      ]
     },
     "execution_count": 166,
     "metadata": {},
     "output_type": "execute_result"
    }
   ],
   "source": [
    "# lets look for outliers\n",
    "to_drop = df[(df['X'] > 0.9)|(df['Y'] > 0.9)].index\n",
    "to_drop"
   ]
  },
  {
   "cell_type": "code",
   "execution_count": 167,
   "id": "9ef6375f",
   "metadata": {},
   "outputs": [],
   "source": [
    "# drop outliers since they are only 67 and rescale\n",
    "df.drop(to_drop, inplace=True)"
   ]
  },
  {
   "cell_type": "code",
   "execution_count": 168,
   "id": "20823ba3",
   "metadata": {},
   "outputs": [],
   "source": [
    "scaler_X = preprocessing.MinMaxScaler()\n",
    "scaler_Y = preprocessing.MinMaxScaler()\n",
    "\n",
    "X_def, Y_def = df['X'].values, df['Y'].values #returns a numpy array\n",
    "X_scaled = scaler_X.fit_transform(X_def.reshape([-1,1]))\n",
    "Y_scaled = scaler_Y.fit_transform(Y_def.reshape([-1,1]))\n",
    "\n",
    "df['X'] = X_scaled\n",
    "df['Y'] = Y_scaled"
   ]
  },
  {
   "cell_type": "code",
   "execution_count": 172,
   "id": "633fc2e4",
   "metadata": {},
   "outputs": [
    {
     "data": {
      "image/png": "[encoded data removed]",
      "text/plain": [
       "<Figure size 864x432 with 1 Axes>"
      ]
     },
     "metadata": {
      "needs_background": "light"
     },
     "output_type": "display_data"
    }
   ],
   "source": [
    "fig, ax = plt.subplots(figsize=(12,6))\n",
    "\n",
    "ax.scatter(df['X'], df['Y']);\n",
    "ax.set(xlabel='X',\n",
    "       ylabel='Y',\n",
    "       title='Map of reports');"
   ]
  },
  {
   "cell_type": "code",
   "execution_count": 173,
   "id": "5a97f9ff",
   "metadata": {},
   "outputs": [],
   "source": [
    "### Save pre-processed df to csv\n",
    "df.to_csv('preprocessed_data_dropped.csv', index=False)"
   ]
  },
  {
   "cell_type": "markdown",
   "id": "9c5b17f4",
   "metadata": {},
   "source": [
    "## Distribution of reports over the year, months, days, hours"
   ]
  },
  {
   "cell_type": "code",
   "execution_count": 195,
   "id": "a400ac5c",
   "metadata": {},
   "outputs": [
    {
     "data": {
      "image/png": "[encoded data removed]",
      "text/plain": [
       "<Figure size 720x1080 with 5 Axes>"
      ]
     },
     "metadata": {
      "needs_background": "light"
     },
     "output_type": "display_data"
    }
   ],
   "source": [
    "fig, (ax0, ax1, ax2, ax3, ax4) = plt.subplots(nrows=5, figsize=(10,15))\n",
    "\n",
    "df['Year'].value_counts(sort=False).plot(kind='bar', ax=ax0)\n",
    "df['Month'].value_counts(sort=False).plot(kind='bar', ax=ax1)\n",
    "df['Day'].value_counts(sort=False).plot(kind='bar', ax=ax2)\n",
    "df['Dayofweek'].value_counts(sort=False).plot(kind='bar', ax=ax3)\n",
    "df['Hour'].value_counts(sort=False).plot(kind='bar', ax=ax4)\n",
    "\n",
    "ax0.set(title='Reports each Year')\n",
    "ax1.set(title='Reports each Month')\n",
    "ax2.set(title='Reports each Day')\n",
    "ax3.set(title='Reports each Dayofweek')\n",
    "ax4.set(title='Reports each Hours')\n",
    "\n",
    "plt.tight_layout()"
   ]
  },
  {
   "cell_type": "markdown",
   "id": "76addf40",
   "metadata": {},
   "source": [
    "## Distribution of PDs"
   ]
  },
  {
   "cell_type": "code",
   "execution_count": 186,
   "id": "37901224",
   "metadata": {},
   "outputs": [
    {
     "data": {
      "image/png": "[encoded data removed]",
      "text/plain": [
       "<Figure size 720x432 with 1 Axes>"
      ]
     },
     "metadata": {
      "needs_background": "light"
     },
     "output_type": "display_data"
    }
   ],
   "source": [
    "df['PdDistrict'].value_counts().plot(kind='barh', figsize=(10,6));"
   ]
  },
  {
   "cell_type": "markdown",
   "id": "46df1ce0",
   "metadata": {},
   "source": [
    "## Distribution over Roadtype"
   ]
  },
  {
   "cell_type": "code",
   "execution_count": 191,
   "id": "24a13584",
   "metadata": {},
   "outputs": [
    {
     "data": {
      "image/png": "[encoded data removed]",
      "text/plain": [
       "<Figure size 720x432 with 1 Axes>"
      ]
     },
     "metadata": {
      "needs_background": "light"
     },
     "output_type": "display_data"
    }
   ],
   "source": [
    "df['Roadtype'].value_counts().plot(kind='bar', figsize=(10,6));\n",
    "plt.xticks(rotation='horizontal');"
   ]
  },
  {
   "cell_type": "markdown",
   "id": "774a709b",
   "metadata": {},
   "source": [
    "## Check the correlation between Minutes and Felony\n",
    "For each minute, extract the top 3 most likely charges"
   ]
  },
  {
   "cell_type": "code",
   "execution_count": 94,
   "id": "239484b7",
   "metadata": {
    "scrolled": true
   },
   "outputs": [],
   "source": [
    "sum_each_minute = df.groupby('Minute')['X'].count()"
   ]
  },
  {
   "cell_type": "code",
   "execution_count": 95,
   "id": "a40c1186",
   "metadata": {},
   "outputs": [],
   "source": [
    "s = df.groupby([\"Minute\", 'Category'], as_index=False)['X'].count()"
   ]
  },
  {
   "cell_type": "code",
   "execution_count": 96,
   "id": "99ad2ddc",
   "metadata": {},
   "outputs": [],
   "source": [
    "s = s.groupby(['Minute']).apply(lambda x: x.sort_values(['X'],ascending = False)).reset_index(drop = True)"
   ]
  },
  {
   "cell_type": "code",
   "execution_count": 105,
   "id": "e80fa448",
   "metadata": {},
   "outputs": [],
   "source": [
    "top3_each_minute = s.groupby(['Minute']).head(3).rename(columns={'X':'count'}).set_index('Minute')"
   ]
  },
  {
   "cell_type": "code",
   "execution_count": 106,
   "id": "f9dba726",
   "metadata": {},
   "outputs": [
    {
     "data": {
      "text/html": [
       "<div>\n",
       "<style scoped>\n",
       "    .dataframe tbody tr th:only-of-type {\n",
       "        vertical-align: middle;\n",
       "    }\n",
       "\n",
       "    .dataframe tbody tr th {\n",
       "        vertical-align: top;\n",
       "    }\n",
       "\n",
       "    .dataframe thead th {\n",
       "        text-align: right;\n",
       "    }\n",
       "</style>\n",
       "<table border=\"1\" class=\"dataframe\">\n",
       "  <thead>\n",
       "    <tr style=\"text-align: right;\">\n",
       "      <th></th>\n",
       "      <th>Category</th>\n",
       "      <th>count</th>\n",
       "    </tr>\n",
       "    <tr>\n",
       "      <th>Minute</th>\n",
       "      <th></th>\n",
       "      <th></th>\n",
       "    </tr>\n",
       "  </thead>\n",
       "  <tbody>\n",
       "    <tr>\n",
       "      <th>0</th>\n",
       "      <td>LARCENY/THEFT</td>\n",
       "      <td>76622</td>\n",
       "    </tr>\n",
       "    <tr>\n",
       "      <th>0</th>\n",
       "      <td>NON-CRIMINAL</td>\n",
       "      <td>31432</td>\n",
       "    </tr>\n",
       "    <tr>\n",
       "      <th>0</th>\n",
       "      <td>VEHICLE THEFT</td>\n",
       "      <td>30380</td>\n",
       "    </tr>\n",
       "    <tr>\n",
       "      <th>1</th>\n",
       "      <td>LARCENY/THEFT</td>\n",
       "      <td>4726</td>\n",
       "    </tr>\n",
       "    <tr>\n",
       "      <th>1</th>\n",
       "      <td>OTHER OFFENSES</td>\n",
       "      <td>3681</td>\n",
       "    </tr>\n",
       "    <tr>\n",
       "      <th>...</th>\n",
       "      <td>...</td>\n",
       "      <td>...</td>\n",
       "    </tr>\n",
       "    <tr>\n",
       "      <th>58</th>\n",
       "      <td>DRUG/NARCOTIC</td>\n",
       "      <td>664</td>\n",
       "    </tr>\n",
       "    <tr>\n",
       "      <th>58</th>\n",
       "      <td>NON-CRIMINAL</td>\n",
       "      <td>495</td>\n",
       "    </tr>\n",
       "    <tr>\n",
       "      <th>59</th>\n",
       "      <td>OTHER OFFENSES</td>\n",
       "      <td>900</td>\n",
       "    </tr>\n",
       "    <tr>\n",
       "      <th>59</th>\n",
       "      <td>DRUG/NARCOTIC</td>\n",
       "      <td>521</td>\n",
       "    </tr>\n",
       "    <tr>\n",
       "      <th>59</th>\n",
       "      <td>LARCENY/THEFT</td>\n",
       "      <td>521</td>\n",
       "    </tr>\n",
       "  </tbody>\n",
       "</table>\n",
       "<p>180 rows × 2 columns</p>\n",
       "</div>"
      ],
      "text/plain": [
       "              Category  count\n",
       "Minute                       \n",
       "0        LARCENY/THEFT  76622\n",
       "0         NON-CRIMINAL  31432\n",
       "0        VEHICLE THEFT  30380\n",
       "1        LARCENY/THEFT   4726\n",
       "1       OTHER OFFENSES   3681\n",
       "...                ...    ...\n",
       "58       DRUG/NARCOTIC    664\n",
       "58        NON-CRIMINAL    495\n",
       "59      OTHER OFFENSES    900\n",
       "59       DRUG/NARCOTIC    521\n",
       "59       LARCENY/THEFT    521\n",
       "\n",
       "[180 rows x 2 columns]"
      ]
     },
     "execution_count": 106,
     "metadata": {},
     "output_type": "execute_result"
    }
   ],
   "source": [
    "top3_each_minute"
   ]
  },
  {
   "cell_type": "code",
   "execution_count": 113,
   "id": "ecf6a0e3",
   "metadata": {
    "scrolled": true
   },
   "outputs": [
    {
     "data": {
      "text/plain": [
       "Minute\n",
       "0     268930\n",
       "1      25859\n",
       "2       4403\n",
       "3       4624\n",
       "4       4701\n",
       "5      15764\n",
       "6       4654\n",
       "7       4658\n",
       "8       5026\n",
       "9       4422\n",
       "10     22761\n",
       "11      4550\n",
       "12      5019\n",
       "13      4629\n",
       "14      4829\n",
       "15     37900\n",
       "16      4408\n",
       "17      4787\n",
       "18      5242\n",
       "19      4529\n",
       "20     26025\n",
       "21      4284\n",
       "22      4996\n",
       "23      4903\n",
       "24      4764\n",
       "25     16176\n",
       "26      4401\n",
       "27      4726\n",
       "28      4875\n",
       "29      4392\n",
       "30    125165\n",
       "31      4120\n",
       "32      4493\n",
       "33      4737\n",
       "34      4516\n",
       "35     15549\n",
       "36      4463\n",
       "37      4807\n",
       "38      4946\n",
       "39      4522\n",
       "40     24668\n",
       "41      4383\n",
       "42      4811\n",
       "43      4599\n",
       "44      4704\n",
       "45     40227\n",
       "46      4377\n",
       "47      4620\n",
       "48      5059\n",
       "49      4341\n",
       "50     25495\n",
       "51      4308\n",
       "52      4570\n",
       "53      4748\n",
       "54      4618\n",
       "55     15406\n",
       "56      4437\n",
       "57      4637\n",
       "58      4850\n",
       "59      4569\n",
       "Name: X, dtype: int64"
      ]
     },
     "execution_count": 113,
     "metadata": {},
     "output_type": "execute_result"
    }
   ],
   "source": [
    "sum_each_minute"
   ]
  },
  {
   "cell_type": "markdown",
   "id": "8564c72e",
   "metadata": {},
   "source": [
    "**Based on evidence, the minutes in highly probable to be either 0, 15, 30, or 45. As such, we will discard minute**"
   ]
  },
  {
   "cell_type": "markdown",
   "id": "e899af9b",
   "metadata": {},
   "source": [
    "# Create a data preprocessing function"
   ]
  },
  {
   "cell_type": "code",
   "execution_count": 4,
   "id": "7c463566",
   "metadata": {},
   "outputs": [],
   "source": [
    "def check_st_at(str_list):\n",
    "    for word in str_list.split():\n",
    "        if word == 'AV':\n",
    "            return 'AV'\n",
    "    return 'ST'"
   ]
  },
  {
   "cell_type": "code",
   "execution_count": 5,
   "id": "f43b2142",
   "metadata": {},
   "outputs": [],
   "source": [
    "def preprocess_df(df_in, is_train = True):\n",
    "    \n",
    "    df = df_in.copy()\n",
    "    \n",
    "    if is_train: \n",
    "        df.drop(columns=['Descript', 'Resolution'], axis=1, inplace=True)\n",
    "    df['Year'] = df['Dates'].dt.year\n",
    "    df['Month'] = df['Dates'].dt.month\n",
    "    df['Day'] = df['Dates'].dt.day\n",
    "    df['Hour'] = df['Dates'].dt.hour\n",
    "    df['Minute'] = df['Dates'].dt.minute\n",
    "    df['Dayofweek'] = df['Dates'].dt.dayofweek\n",
    "    \n",
    "    df.drop('Dates', axis=1, inplace=True)\n",
    "    df.drop('DayOfWeek', axis=1, inplace=True)\n",
    "    \n",
    "    # subtract 2000 from the year to keep data in the same range\n",
    "    df['Year'] = df['Year'] - 2000\n",
    "    \n",
    "    df['Roadtype'] = df.apply(lambda row: check_st_at(row.Address), axis=1)\n",
    "    df['Block'] = df['Address'].str.contains('block', case=False).apply(lambda x: 1 if x == True else 0)\n",
    "    # we can now drop Address\n",
    "    df.drop('Address', axis=1, inplace=True)\n",
    "    \n",
    "    # Drop outliers\n",
    "    to_drop = df[(df['X'] == -120.5)|(df['Y'] == 90)].index\n",
    "    if is_train:\n",
    "        df.drop(to_drop, inplace=True)\n",
    "    \n",
    "    scaler_X = preprocessing.MinMaxScaler()\n",
    "    scaler_Y = preprocessing.MinMaxScaler()\n",
    "    scaler_XY = preprocessing.MinMaxScaler()\n",
    "    scaler_sum = preprocessing.MinMaxScaler()\n",
    "    scaler_diff = preprocessing.MinMaxScaler()\n",
    "    scaler_prod = preprocessing.MinMaxScaler()\n",
    "\n",
    "    X_def, Y_def = df['X'].values, df['Y'].values #returns a numpy array\n",
    "    XY_sq = X_def**2 + Y_def**2\n",
    "    XYsum = X_def + Y_def\n",
    "    XYdiff = X_def - Y_def\n",
    "    XYprod = np.multiply(X_def, Y_def)\n",
    "    \n",
    "    X_scaled = scaler_X.fit_transform(X_def.reshape([-1,1]))\n",
    "    Y_scaled = scaler_Y.fit_transform(Y_def.reshape([-1,1]))\n",
    "    XY_sq_scaled = scaler_XY.fit_transform(XY_sq.reshape([-1,1]))\n",
    "    XY_sum_scaled = scaler_sum.fit_transform(XYsum.reshape([-1,1]))\n",
    "    XY_diff_scaled = scaler_diff.fit_transform(XYdiff.reshape([-1,1]))\n",
    "    XY_prod_scaled = scaler_prod.fit_transform(XYprod.reshape([-1,1]))\n",
    "\n",
    "    df['X'] = X_scaled\n",
    "    df['Y'] = Y_scaled\n",
    "    df['XYsq'] = XY_sq_scaled\n",
    "    df['XYsum'] = XY_sum_scaled\n",
    "    df['XYdiff'] = XY_diff_scaled\n",
    "    df['XYprod'] = XY_prod_scaled\n",
    "    \n",
    "    #encode categorical columns\n",
    "    if is_train:\n",
    "        df['Category'] = df['Category'].astype('category')\n",
    "    df['PdDistrict'] = df['PdDistrict'].astype('category')b\n",
    "    df['Roadtype'] = df['Roadtype'].astype('category')\n",
    "    \n",
    "    df_cat = df.copy()\n",
    "    \n",
    "    if is_train:\n",
    "        df_cat['Category'] = df_cat['Category'].cat.codes\n",
    "    df_cat['PdDistrict'] = df_cat['PdDistrict'].cat.codes\n",
    "    df_cat['Roadtype'] = df_cat['Roadtype'].cat.codes\n",
    "    \n",
    "    return df_cat, df"
   ]
  },
  {
   "cell_type": "markdown",
   "id": "44617c96",
   "metadata": {},
   "source": [
    "# Model"
   ]
  },
  {
   "cell_type": "markdown",
   "id": "ba18e1de",
   "metadata": {},
   "source": [
    "## Load and prepare data"
   ]
  },
  {
   "cell_type": "code",
   "execution_count": 6,
   "id": "a51ad0c9",
   "metadata": {},
   "outputs": [],
   "source": [
    "train_df = pd.read_csv('train.csv', parse_dates = ['Dates'], low_memory=False)\n",
    "\n",
    "df_cat2, df2 = preprocess_df(train_df)"
   ]
  },
  {
   "cell_type": "code",
   "execution_count": 7,
   "id": "f4307450",
   "metadata": {},
   "outputs": [],
   "source": [
    "X = df_cat2.drop(columns= ['Category'])\n",
    "y = df_cat2['Category']"
   ]
  },
  {
   "cell_type": "markdown",
   "id": "9e92fea9",
   "metadata": {},
   "source": [
    "## KNN"
   ]
  },
  {
   "cell_type": "code",
   "execution_count": 32,
   "id": "a442dd8e",
   "metadata": {},
   "outputs": [],
   "source": [
    "X_train, X_test, y_train, y_test = train_test_split(X, y, test_size = 0.3)"
   ]
  },
  {
   "cell_type": "code",
   "execution_count": 42,
   "id": "f95cd44a",
   "metadata": {},
   "outputs": [],
   "source": [
    "knn = KNeighborsClassifier(n_neighbors=100)"
   ]
  },
  {
   "cell_type": "code",
   "execution_count": 43,
   "id": "4b6a7dbb",
   "metadata": {},
   "outputs": [
    {
     "name": "stdout",
     "output_type": "stream",
     "text": [
      "Wall time: 34.8 s\n"
     ]
    },
    {
     "data": {
      "text/plain": [
       "KNeighborsClassifier(n_neighbors=100)"
      ]
     },
     "execution_count": 43,
     "metadata": {},
     "output_type": "execute_result"
    }
   ],
   "source": [
    "%%time\n",
    "knn.fit(X_train, y_train)"
   ]
  },
  {
   "cell_type": "code",
   "execution_count": 44,
   "id": "ee66dd8a",
   "metadata": {},
   "outputs": [
    {
     "name": "stdout",
     "output_type": "stream",
     "text": [
      "2.356131881691766\n",
      "3.933750913077195\n"
     ]
    }
   ],
   "source": [
    "y_probs_train = knn.predict_proba(X_train)\n",
    "y_probs_val = knn.predict_proba(X_test)\n",
    "\n",
    "print(log_loss(y_train, y_probs_train))\n",
    "print(log_loss(y_test, y_probs_val))"
   ]
  },
  {
   "cell_type": "markdown",
   "id": "2a44221c",
   "metadata": {},
   "source": [
    "## Logistic Regression"
   ]
  },
  {
   "cell_type": "code",
   "execution_count": 9,
   "id": "54f14fa9",
   "metadata": {},
   "outputs": [],
   "source": [
    "X_train, X_test, y_train, y_test = train_test_split(X, y, test_size = 0.3)"
   ]
  },
  {
   "cell_type": "code",
   "execution_count": 93,
   "id": "7f56a905",
   "metadata": {},
   "outputs": [],
   "source": [
    "logreg = LogisticRegression(n_jobs=-1, C=1000,\n",
    "                           solver='saga', penalty='elasticnet',\n",
    "                           l1_ratio=0.5)"
   ]
  },
  {
   "cell_type": "code",
   "execution_count": 95,
   "id": "001ab34b",
   "metadata": {},
   "outputs": [
    {
     "name": "stderr",
     "output_type": "stream",
     "text": [
      "D:\\MachineLearning\\MyProjects\\SanFranciscoCrimes\\env\\lib\\site-packages\\sklearn\\linear_model\\_sag.py:328: ConvergenceWarning: The max_iter was reached which means the coef_ did not converge\n",
      "  warnings.warn(\"The max_iter was reached which means \"\n"
     ]
    },
    {
     "data": {
      "text/plain": [
       "LogisticRegression(C=1000, l1_ratio=0.5, n_jobs=-1, penalty='elasticnet',\n",
       "                   solver='saga')"
      ]
     },
     "execution_count": 95,
     "metadata": {},
     "output_type": "execute_result"
    }
   ],
   "source": [
    "logreg.fit(X_train, y_train)"
   ]
  },
  {
   "cell_type": "code",
   "execution_count": 96,
   "id": "ed14b7e2",
   "metadata": {},
   "outputs": [
    {
     "name": "stdout",
     "output_type": "stream",
     "text": [
      "2.5391372261544785\n",
      "2.537733936411284\n"
     ]
    }
   ],
   "source": [
    "y_probs_train = logreg.predict_proba(X_train)\n",
    "y_probs_val = logreg.predict_proba(X_test)\n",
    "\n",
    "print(log_loss(y_train, y_probs_train))\n",
    "print(log_loss(y_test, y_probs_val))"
   ]
  },
  {
   "cell_type": "markdown",
   "id": "ef7d4a12",
   "metadata": {},
   "source": [
    "## Random Forest"
   ]
  },
  {
   "cell_type": "code",
   "execution_count": 8,
   "id": "47e95cf5",
   "metadata": {},
   "outputs": [],
   "source": [
    "X_train, X_test, y_train, y_test = train_test_split(X, y, test_size = 0.3)"
   ]
  },
  {
   "cell_type": "code",
   "execution_count": 9,
   "id": "bc90bafa",
   "metadata": {},
   "outputs": [],
   "source": [
    "rfc = RandomForestClassifier(n_jobs=-1, min_samples_split=50, min_samples_leaf=20,\n",
    "                            n_estimators = 80)"
   ]
  },
  {
   "cell_type": "code",
   "execution_count": 23,
   "id": "f420da8f",
   "metadata": {},
   "outputs": [
    {
     "data": {
      "text/plain": [
       "RandomForestClassifier(min_samples_leaf=20, min_samples_split=50,\n",
       "                       n_estimators=80, n_jobs=-1)"
      ]
     },
     "execution_count": 23,
     "metadata": {},
     "output_type": "execute_result"
    }
   ],
   "source": [
    "rfc.fit(X_train, y_train)"
   ]
  },
  {
   "cell_type": "code",
   "execution_count": 24,
   "id": "31d69532",
   "metadata": {},
   "outputs": [
    {
     "name": "stdout",
     "output_type": "stream",
     "text": [
      "1.9195065945209078\n",
      "2.300256524634753\n"
     ]
    }
   ],
   "source": [
    "y_probs_train = rfc.predict_proba(X_train)\n",
    "y_probs_val = rfc.predict_proba(X_test)\n",
    "\n",
    "print(log_loss(y_train, y_probs_train))\n",
    "print(log_loss(y_test, y_probs_val))"
   ]
  },
  {
   "cell_type": "code",
   "execution_count": 16,
   "id": "7b569cf8",
   "metadata": {},
   "outputs": [
    {
     "name": "stdout",
     "output_type": "stream",
     "text": [
      "[-3.42904581 -2.54988311 -5.50494495]\n"
     ]
    }
   ],
   "source": [
    "cv_res = cross_val_score(rfc, X, y, scoring='neg_log_loss',\n",
    "               cv = 3)\n",
    "print(cv_res)"
   ]
  },
  {
   "cell_type": "markdown",
   "id": "5e639b66",
   "metadata": {},
   "source": [
    "## LightGBM"
   ]
  },
  {
   "cell_type": "code",
   "execution_count": 12,
   "id": "6743e88d",
   "metadata": {},
   "outputs": [],
   "source": [
    "X_train, X_test, y_train, y_test = train_test_split(X, y, test_size = 0.3)"
   ]
  },
  {
   "cell_type": "code",
   "execution_count": 31,
   "id": "c5d86655",
   "metadata": {},
   "outputs": [],
   "source": [
    "lgbc = lgb.LGBMClassifier(objective='multiclass', num_classes=39)"
   ]
  },
  {
   "cell_type": "code",
   "execution_count": 32,
   "id": "a9f1ad9c",
   "metadata": {},
   "outputs": [
    {
     "name": "stdout",
     "output_type": "stream",
     "text": [
      "Wall time: 1min 5s\n"
     ]
    },
    {
     "data": {
      "text/plain": [
       "LGBMClassifier(num_classes=39, objective='multiclass')"
      ]
     },
     "execution_count": 32,
     "metadata": {},
     "output_type": "execute_result"
    }
   ],
   "source": [
    "%%time\n",
    "lgbc.fit(X_train, y_train)"
   ]
  },
  {
   "cell_type": "code",
   "execution_count": 33,
   "id": "9c5d7a1c",
   "metadata": {},
   "outputs": [
    {
     "name": "stdout",
     "output_type": "stream",
     "text": [
      "6.492721136931207\n",
      "6.862838997961302\n"
     ]
    }
   ],
   "source": [
    "y_probs_train = lgbc.predict_proba(X_train)\n",
    "y_probs_val = lgbc.predict_proba(X_test)\n",
    "\n",
    "print(log_loss(y_train, y_probs_train))\n",
    "print(log_loss(y_test, y_probs_val))"
   ]
  }
 ],
 "metadata": {
  "kernelspec": {
   "display_name": "Python 3 (ipykernel)",
   "language": "python",
   "name": "python3"
  },
  "language_info": {
   "codemirror_mode": {
    "name": "ipython",
    "version": 3
   },
   "file_extension": ".py",
   "mimetype": "text/x-python",
   "name": "python",
   "nbconvert_exporter": "python",
   "pygments_lexer": "ipython3",
   "version": "3.8.0"
  }
 },
 "nbformat": 4,
 "nbformat_minor": 5
}
